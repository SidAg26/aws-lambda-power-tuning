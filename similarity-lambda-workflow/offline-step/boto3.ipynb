{
 "cells": [
  {
   "cell_type": "code",
   "execution_count": 1,
   "metadata": {},
   "outputs": [],
   "source": [
    "import boto3"
   ]
  },
  {
   "cell_type": "code",
   "execution_count": 2,
   "metadata": {},
   "outputs": [],
   "source": [
    "client = boto3.client('pricing', region_name='us-east-1')"
   ]
  },
  {
   "cell_type": "code",
   "execution_count": 9,
   "metadata": {},
   "outputs": [
    {
     "name": "stdout",
     "output_type": "stream",
     "text": [
      "A4B\n",
      "AWSAmplify\n",
      "AWSAppFabric\n",
      "AWSAppRunner\n",
      "AWSAppSync\n",
      "AWSApplicationMigrationSvc\n",
      "AWSB2Bi\n",
      "AWSBackup\n",
      "AWSBillingConductor\n",
      "AWSBudgets\n",
      "AWSCertificateManager\n",
      "AWSCleanRooms\n",
      "AWSCloudFormation\n",
      "AWSCloudMap\n",
      "AWSCloudTrail\n",
      "AWSCloudWAN\n",
      "AWSCodeArtifact\n",
      "AWSCodeCommit\n",
      "AWSCodeDeploy\n",
      "AWSCodePipeline\n",
      "AWSComputeOptimizer\n",
      "AWSConfig\n",
      "AWSCostExplorer\n",
      "AWSDataExchange\n",
      "AWSDataSync\n",
      "AWSDataTransfer\n",
      "AWSDatabaseMigrationSvc\n",
      "AWSDeepRacer\n",
      "AWSDeveloperSupport\n",
      "AWSDeviceFarm\n",
      "AWSDirectConnect\n",
      "AWSDirectoryService\n",
      "AWSELB\n",
      "AWSElasticDisasterRecovery\n",
      "AWSElementalMediaConvert\n",
      "AWSElementalMediaLive\n",
      "AWSElementalMediaPackage\n",
      "AWSElementalMediaStore\n",
      "AWSElementalMediaTailor\n",
      "AWSEnterpriseOnRamp\n",
      "AWSEntityResolution\n",
      "AWSEvents\n",
      "AWSFIS\n",
      "AWSFMS\n",
      "AWSGlobalAccelerator\n",
      "AWSGlueElasticViews\n",
      "AWSGlue\n",
      "AWSGreengrass\n",
      "AWSGroundStation\n",
      "AWSIAMAccessAnalyzer\n",
      "AWSIoT1Click\n",
      "AWSIoTAnalytics\n",
      "AWSIoTEvents\n",
      "AWSIoTFleetWise\n",
      "AWSIoTSiteWise\n",
      "AWSIoTThingsGraph\n",
      "AWSIoT\n",
      "AWSLakeFormation\n",
      "AWSLambda\n",
      "AWSM2\n",
      "AWSMDC\n",
      "AWSMediaConnect\n",
      "AWSMigrationHubRefactorSpaces\n",
      "AWSNetworkFirewall\n",
      "AWSOutposts\n",
      "AWSPrivate5G\n",
      "AWSQueueService\n",
      "AWSR53AppRecoveryController\n",
      "AWSResilienceHub\n",
      "AWSRoboMaker\n",
      "AWSSecretsManager\n",
      "AWSSecurityHub\n",
      "AWSServiceCatalog\n",
      "AWSShield\n",
      "AWSStorageGatewayDeepArchive\n",
      "AWSStorageGateway\n",
      "AWSSupplyChain\n",
      "AWSSupportBusiness\n",
      "AWSSupportEnterprise\n",
      "AWSSystemsManager\n",
      "AWSTelcoNetworkBuilder\n",
      "AWSTransfer\n",
      "AWSWickr\n",
      "AWSWisdom\n",
      "AWSXRay\n",
      "AlexaTopSites\n",
      "AlexaWebInfoService\n",
      "AmazonA2I\n",
      "AmazonApiGateway\n",
      "AmazonAppStream\n",
      "AmazonAthena\n",
      "AmazonBedrock\n",
      "AmazonBraket\n",
      "AmazonChimeBusinessCalling\n",
      "AmazonChimeCallMeAMCS\n",
      "AmazonChimeCallMe\n",
      "AmazonChimeDialInAMCS\n",
      "AmazonChimeDialin\n",
      "AmazonChimeFeatures\n",
      "AmazonChimeServices\n"
     ]
    }
   ],
   "source": [
    "response = client.describe_services()\n",
    "# print(response)\n",
    "for item in response['Services']:\n",
    "    print(item['ServiceCode'])"
   ]
  },
  {
   "cell_type": "code",
   "execution_count": null,
   "metadata": {},
   "outputs": [],
   "source": []
  }
 ],
 "metadata": {
  "kernelspec": {
   "display_name": "aws",
   "language": "python",
   "name": "python3"
  },
  "language_info": {
   "codemirror_mode": {
    "name": "ipython",
    "version": 3
   },
   "file_extension": ".py",
   "mimetype": "text/x-python",
   "name": "python",
   "nbconvert_exporter": "python",
   "pygments_lexer": "ipython3",
   "version": "3.11.4"
  }
 },
 "nbformat": 4,
 "nbformat_minor": 2
}
